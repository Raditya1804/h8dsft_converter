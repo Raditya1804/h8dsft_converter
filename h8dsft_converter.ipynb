{
 "cells": [
  {
   "cell_type": "code",
   "execution_count": null,
   "metadata": {},
   "outputs": [],
   "source": [
    "def hitung_suhu (suhu, bilangan_1 = 0, bilangan_2 = 273.15) :\n",
    "    if suhu == 'kelvin' : # input kelvin untuk mencari nilai celcius\n",
    "      hasil = bilangan_1 - bilangan_2 # rumus untuk mengubah kelvin menjadi celcius = C = K - 273.15 \n",
    "    else : \n",
    "      hasil = bilangan_1 + bilangan_2 # rumus untuk mengubah celcius menjadi kelvin = K = C + 273.15\n",
    "    return hasil\n",
    "\n",
    "hasil_suhu = hitung_suhu ('kelvin', bilangan_1 = 1)\n",
    "print ('hasil perhitungan:', hasil_suhu)"
   ]
  },
  {
   "cell_type": "code",
   "execution_count": null,
   "metadata": {},
   "outputs": [],
   "source": [
    "def hitung_suhu (suhu, bilangan_1 = 0, bilangan_2 = 273.15, bilangan_3 = 32, bilangan_5 = 1.8) :\n",
    "    if suhu == 'celcius' : # input celcius \n",
    "      hasil = bilangan_1 * bilangan_5 + bilangan_3 # rumus untuk mengubah celcius menjadi fahrenheit\n",
    "    else : \n",
    "      hasil = (bilangan_1 - bilangan_2) * bilangan_5 + bilangan_3 # rumus untuk mengubah kelvin menjadi fahrenheit\n",
    "    return hasil\n",
    "\n",
    "hasil_suhu = hitung_suhu ('celcius', bilangan_1 = 1) \n",
    "print ('hasil perhitungan:', hasil_suhu,'fahrenheit')"
   ]
  }
 ],
 "metadata": {
  "language_info": {
   "name": "python"
  },
  "orig_nbformat": 4
 },
 "nbformat": 4,
 "nbformat_minor": 2
}
